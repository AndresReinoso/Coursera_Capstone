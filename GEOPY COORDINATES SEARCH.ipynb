{
 "cells": [
  {
   "cell_type": "markdown",
   "metadata": {},
   "source": [
    "<h1 align=center><font size = 5> COORDINATES SEARCH USING GEOPY FOR NEIGHBORHOODS IN BOGOTA</font></h1>\n",
    "IBM Data Science Applied Capstone Project - April 2020"
   ]
  },
  {
   "cell_type": "markdown",
   "metadata": {},
   "source": [
    "First step will be importing the libraries we'll be using for this process."
   ]
  },
  {
   "cell_type": "code",
   "execution_count": null,
   "metadata": {},
   "outputs": [],
   "source": [
    "import pandas as pd # library for data analsysis\n",
    "pd.set_option('display.max_columns', None)\n",
    "pd.set_option('display.max_rows', None)\n",
    "import json # library to handle JSON files\n",
    "!conda install -c conda-forge geopy --yes # uncomment this line if you haven't completed the Foursquare API lab\n",
    "from geopy.geocoders import Nominatim # convert an address into latitude and longitude values\n",
    "import requests # library to handle requests\n",
    "from pandas.io.json import json_normalize # tranform JSON file into a pandas dataframe\n",
    "!conda install -c conda-forge folium=0.5.0 --yes # uncomment this line if you haven't completed the Foursquare API lab\n",
    "import folium # map rendering library"
   ]
  },
  {
   "cell_type": "markdown",
   "metadata": {},
   "source": [
    "Before starting, notice this code section is used in order to identify the current directory where does our csv files are save within skills Networks labs."
   ]
  },
  {
   "cell_type": "code",
   "execution_count": null,
   "metadata": {},
   "outputs": [],
   "source": [
    "import os\n",
    "os.getcwd()"
   ]
  },
  {
   "cell_type": "markdown",
   "metadata": {},
   "source": [
    "Now, loading our list of neighborhoods from webscraping:"
   ]
  },
  {
   "cell_type": "code",
   "execution_count": null,
   "metadata": {},
   "outputs": [],
   "source": [
    "df_total = pd.read_csv (r'/resources/labs/DP0701EN/NEIGBORHOODLISTBOG.csv')\n",
    "df_total.head()"
   ]
  },
  {
   "cell_type": "code",
   "execution_count": 4,
   "metadata": {},
   "outputs": [
    {
     "name": "stdout",
     "output_type": "stream",
     "text": [
      "Canaima, Bogota\n",
      "La Floresta de La Sabana, Bogota\n",
      "Torca, Bogota\n",
      "Altos de Serrezuela, Bogota\n",
      "Balcones de Vista Hermosa, Bogota\n",
      "Balmoral Norte, Bogota\n",
      "Buenavista, Bogota\n",
      "Chaparral, Bogota\n",
      "El Codito, Bogota\n",
      "El Refugio de San Antonio, Bogota\n"
     ]
    }
   ],
   "source": [
    "k=0\n",
    "for index, rows in df_total.iterrows():\n",
    "    if k<10:\n",
    "        print((str(rows[\"Neighborhood\"].strip(\" \"))).replace(\"'\",\"\")+\", \"+str(rows[\"City\"].strip(\" \")).replace(\"'\",\"\"))\n",
    "        k=k+1"
   ]
  },
  {
   "cell_type": "markdown",
   "metadata": {},
   "source": [
    "Once ready the full list of neighborhoods we'll proceed with the query to determine the coordinates, using geopy."
   ]
  },
  {
   "cell_type": "code",
   "execution_count": 7,
   "metadata": {},
   "outputs": [],
   "source": [
    "# This function identifies the coordinates using geopy\n",
    "dic_results={}\n",
    "def Identify_coordinates(lst):\n",
    "    i=0\n",
    "    for index, rows in lst.iterrows():\n",
    "        if i<20:\n",
    "            try:\n",
    "                geolocator = Nominatim(user_agent=\"foursquare_agent\")\n",
    "                location = geolocator.geocode((str(rows[\"Neighborhood\"].strip(\" \"))).replace(\"'\",\"\")+\", \"+str(rows[\"City\"].strip(\" \")).replace(\"'\",\"\"))\n",
    "                latitude = location.latitude\n",
    "                longitude = location.longitude\n",
    "                #print((str(rows[\"Neighborhood\"].strip(\" \")).replace(\"'\",\"\"),latitude,longitude))\n",
    "                dic_results[rows[\"Neighborhood\"]]=(latitude,longitude)\n",
    "                i=i+1\n",
    "            except:\n",
    "                #print((str(rows[\"Neighborhood\"].strip(\" \")).replace(\"'\",\"\"),\"Not available\"))  # As long as some coordinates are not found and crush the program this try block was included and prints the result Not availabe to be used in the coming section.\n",
    "                dic_results[rows[\"Neighborhood\"]]=(str(rows[\"Neighborhood\"]),\"Not available\")\n",
    "                i=i+1"
   ]
  },
  {
   "cell_type": "code",
   "execution_count": 6,
   "metadata": {},
   "outputs": [
    {
     "name": "stdout",
     "output_type": "stream",
     "text": [
      "('Altos de Serrezuela', 'Not available')\n",
      "('Balcones de Vista Hermosa', 'Not available')\n",
      "{'Canaima': (4.7032984, -74.0922158), ' La Floresta de La Sabana': (4.8095348, -74.0226073), ' Torca': (4.7307285, -74.0313139), 'Altos de Serrezuela': ('Altos de Serrezuela', 'Not available'), ' Balcones de Vista Hermosa': (' Balcones de Vista Hermosa', 'Not available')}\n"
     ]
    }
   ],
   "source": [
    "## Unfortunately looks like geopy is not quite reliable and sometimes it does not generate the dataset.\n",
    "## looks like also has a limitation in call numbers. However I was able to use this code to download and print the needed datasets.\n",
    "Identify_coordinates(df_total) # test\n",
    "print(dic_results)"
   ]
  },
  {
   "cell_type": "code",
   "execution_count": null,
   "metadata": {},
   "outputs": [],
   "source": [
    "dic_results['Canaima']"
   ]
  },
  {
   "cell_type": "code",
   "execution_count": 24,
   "metadata": {},
   "outputs": [],
   "source": [
    "from pandas import DataFrame"
   ]
  },
  {
   "cell_type": "code",
   "execution_count": 28,
   "metadata": {},
   "outputs": [],
   "source": [
    "df_coordinates = DataFrame(list(dic_results.items()),columns = ['Neighborhood','Coordinates']) "
   ]
  },
  {
   "cell_type": "code",
   "execution_count": 29,
   "metadata": {},
   "outputs": [
    {
     "data": {
      "text/html": [
       "<div>\n",
       "<style scoped>\n",
       "    .dataframe tbody tr th:only-of-type {\n",
       "        vertical-align: middle;\n",
       "    }\n",
       "\n",
       "    .dataframe tbody tr th {\n",
       "        vertical-align: top;\n",
       "    }\n",
       "\n",
       "    .dataframe thead th {\n",
       "        text-align: right;\n",
       "    }\n",
       "</style>\n",
       "<table border=\"1\" class=\"dataframe\">\n",
       "  <thead>\n",
       "    <tr style=\"text-align: right;\">\n",
       "      <th></th>\n",
       "      <th>Neighborhood</th>\n",
       "      <th>Coordinates</th>\n",
       "    </tr>\n",
       "  </thead>\n",
       "  <tbody>\n",
       "    <tr>\n",
       "      <th>0</th>\n",
       "      <td>Canaima</td>\n",
       "      <td>(Canaima, Not available)</td>\n",
       "    </tr>\n",
       "    <tr>\n",
       "      <th>1</th>\n",
       "      <td>La Floresta de La Sabana</td>\n",
       "      <td>( La Floresta de La Sabana, Not available)</td>\n",
       "    </tr>\n",
       "    <tr>\n",
       "      <th>2</th>\n",
       "      <td>Torca</td>\n",
       "      <td>( Torca, Not available)</td>\n",
       "    </tr>\n",
       "    <tr>\n",
       "      <th>3</th>\n",
       "      <td>Altos de Serrezuela</td>\n",
       "      <td>(Altos de Serrezuela, Not available)</td>\n",
       "    </tr>\n",
       "    <tr>\n",
       "      <th>4</th>\n",
       "      <td>Balcones de Vista Hermosa</td>\n",
       "      <td>( Balcones de Vista Hermosa, Not available)</td>\n",
       "    </tr>\n",
       "  </tbody>\n",
       "</table>\n",
       "</div>"
      ],
      "text/plain": [
       "                 Neighborhood                                  Coordinates\n",
       "0                     Canaima                     (Canaima, Not available)\n",
       "1    La Floresta de La Sabana   ( La Floresta de La Sabana, Not available)\n",
       "2                       Torca                      ( Torca, Not available)\n",
       "3         Altos de Serrezuela         (Altos de Serrezuela, Not available)\n",
       "4   Balcones de Vista Hermosa  ( Balcones de Vista Hermosa, Not available)"
      ]
     },
     "execution_count": 29,
     "metadata": {},
     "output_type": "execute_result"
    }
   ],
   "source": [
    "df_coordinates.head()"
   ]
  },
  {
   "cell_type": "code",
   "execution_count": null,
   "metadata": {},
   "outputs": [],
   "source": [
    "df_coordinates.to_csv('BOGCOORDINATES.csv',index=False) ## Downloading the dataframe to csv for later use"
   ]
  },
  {
   "cell_type": "markdown",
   "metadata": {},
   "source": [
    "Here we have as a result we have a dictionary with all coordinates that we can easily transform into a dataframe or any other data structure needed. Don't Forget it takes a while for geopy to process all the data we have included. In my case I have saved this as BOGCOORDINATES.csv."
   ]
  }
 ],
 "metadata": {
  "kernelspec": {
   "display_name": "Python",
   "language": "python",
   "name": "conda-env-python-py"
  },
  "language_info": {
   "codemirror_mode": {
    "name": "ipython",
    "version": 3
   },
   "file_extension": ".py",
   "mimetype": "text/x-python",
   "name": "python",
   "nbconvert_exporter": "python",
   "pygments_lexer": "ipython3",
   "version": "3.6.10"
  }
 },
 "nbformat": 4,
 "nbformat_minor": 4
}
